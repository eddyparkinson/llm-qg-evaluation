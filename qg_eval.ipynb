{
 "cells": [
  {
   "cell_type": "code",
   "execution_count": null,
   "metadata": {},
   "outputs": [],
   "source": [
    "# %pip install openai python-dotenv pandas"
   ]
  },
  {
   "cell_type": "code",
   "execution_count": null,
   "metadata": {},
   "outputs": [],
   "source": [
    "from openai import OpenAI\n",
    "from dotenv import load_dotenv\n",
    "import json\n",
    "import pandas as pd\n",
    "import os"
   ]
  },
  {
   "cell_type": "code",
   "execution_count": null,
   "metadata": {},
   "outputs": [],
   "source": [
    "# OPENAI_API_KEY = \"add your key here\"\n",
    "# print(f\"OpenAI API Key: {OPENAI_API_KEY}\")\n",
    "\n",
    "load_dotenv()"
   ]
  },
  {
   "cell_type": "code",
   "execution_count": 4,
   "metadata": {},
   "outputs": [],
   "source": [
    "client = OpenAI()"
   ]
  },
  {
   "cell_type": "code",
   "execution_count": 9,
   "metadata": {},
   "outputs": [],
   "source": [
    "def generate_mcqs(context, num_questions=5):\n",
    "    \"\"\"\n",
    "    Generate MCQs from a given context using an LLM.\n",
    "    \"\"\"\n",
    "    prompt = f\"\"\"\n",
    "    Generate {num_questions} multiple-choice questions (MCQs) based on the following context. \n",
    "    Each question should have 4 options, with one correct answer and three distractors.\n",
    "    \n",
    "    Context: {context}\n",
    "    \n",
    "    Format each question as follows:\n",
    "    Q1. [Question text]\n",
    "    A) [Option 1]\n",
    "    B) [Option 2]\n",
    "    C) [Option 3]\n",
    "    D) [Option 4]\n",
    "    Correct Answer: [Correct Option]\n",
    "    \n",
    "    Please ensure the questions are relevant, clear, and cover key aspects of the context.\n",
    "    \"\"\"\n",
    "    \n",
    "    response = client.chat.completions.create(\n",
    "        model=\"gpt-4o\",\n",
    "        messages=[\n",
    "            {\"role\": \"system\", \"content\": \"You are a helpful assistant that generates multiple-choice questions.\"},\n",
    "            {\"role\": \"user\", \"content\": prompt}\n",
    "        ],\n",
    "        max_tokens=1000\n",
    "    )\n",
    "    \n",
    "    mcqs = response.choices[0].message.content\n",
    "    return mcqs"
   ]
  },
  {
   "cell_type": "code",
   "execution_count": 10,
   "metadata": {},
   "outputs": [],
   "source": [
    "context = \"\"\"\n",
    "Photosynthesis is the process by which green plants and some other organisms use sunlight to synthesize foods with the help of chlorophyll. \n",
    "The process involves the intake of carbon dioxide and water, which are then converted into glucose and oxygen. \n",
    "Photosynthesis occurs in the chloroplasts of plant cells, where chlorophyll captures light energy. \n",
    "This process is crucial for the production of oxygen and the removal of carbon dioxide from the atmosphere.\n",
    "\"\"\""
   ]
  },
  {
   "cell_type": "code",
   "execution_count": 11,
   "metadata": {},
   "outputs": [],
   "source": [
    "mcqs = generate_mcqs(context)"
   ]
  },
  {
   "cell_type": "code",
   "execution_count": 13,
   "metadata": {},
   "outputs": [
    {
     "data": {
      "text/plain": [
       "['Q1. What is the primary pigment used in photosynthesis?\\nA) Hemoglobin  \\nB) Carotenoid  \\nC) Chlorophyll  \\nD) Myoglobin  \\nCorrect Answer: C) Chlorophyll  ',\n",
       " 'Q2. In which part of the plant cell does photosynthesis occur?\\nA) Mitochondria  \\nB) Nucleus  \\nC) Chloroplasts  \\nD) Ribosomes  \\nCorrect Answer: C) Chloroplasts  ',\n",
       " 'Q3. What are the two main raw materials needed for photosynthesis?\\nA) Glucose and oxygen  \\nB) Nitrogen and water  \\nC) Carbon dioxide and water  \\nD) Chlorophyll and sunlight  \\nCorrect Answer: C) Carbon dioxide and water  ',\n",
       " 'Q4. What is one of the products of photosynthesis?\\nA) Nitrogen  \\nB) Water  \\nC) Glucose  \\nD) Ammonia  \\nCorrect Answer: C) Glucose  ',\n",
       " 'Q5. Why is photosynthesis important for the environment?\\nA) It decreases the level of oxygen in the atmosphere.  \\nB) It removes carbon dioxide and produces oxygen.  \\nC) It consumes all available sunlight.  \\nD) It leads to the depletion of chlorophyll.  \\nCorrect Answer: B) It removes carbon dioxide and produces oxygen.  ']"
      ]
     },
     "execution_count": 13,
     "metadata": {},
     "output_type": "execute_result"
    }
   ],
   "source": [
    "mcqs = mcqs.split(\"\\n\\n\")\n",
    "mcqs"
   ]
  },
  {
   "cell_type": "code",
   "execution_count": 14,
   "metadata": {},
   "outputs": [
    {
     "name": "stdout",
     "output_type": "stream",
     "text": [
      "Q1. What is the primary pigment used in photosynthesis?\n",
      "A) Hemoglobin  \n",
      "B) Carotenoid  \n",
      "C) Chlorophyll  \n",
      "D) Myoglobin  \n",
      "Correct Answer: C) Chlorophyll  \n"
     ]
    }
   ],
   "source": [
    "print(mcqs[0])"
   ]
  },
  {
   "cell_type": "code",
   "execution_count": 29,
   "metadata": {},
   "outputs": [],
   "source": [
    "def evaluate_mcqs(mcqs, context):\n",
    "    results = []\n",
    "    for question in mcqs:\n",
    "        prompt = f\"\"\"\n",
    "        Evaluate the following MCQ based on the provided context.\n",
    "        Return your evaluation in valid JSON format with scores (0-1) and justifications.\n",
    "\n",
    "        Context: {context}\n",
    "\n",
    "        MCQ: {question}\n",
    "\n",
    "        Required JSON format:\n",
    "        {{\n",
    "            \"question\": \"<question_text>\",\n",
    "            \"evaluations\": {{\n",
    "                \"relevance_score\": <0-1>,\n",
    "                \"relevance_justification\": \"<text>\",\n",
    "                \"clarity_score\": <0-1>,\n",
    "                \"clarity_justification\": \"<text>\",\n",
    "                \"difficulty_score\": <0-1>,\n",
    "                \"difficulty_justification\": \"<text>\",\n",
    "                \"correctness_score\": <0-1>,\n",
    "                \"correctness_justification\": \"<text>\"\n",
    "            }}\n",
    "        }}\n",
    "        \"\"\"\n",
    "\n",
    "        try:\n",
    "            response = client.chat.completions.create(\n",
    "                model=\"gpt-4o-mini\",\n",
    "                # OPENAI_API_KEY=OPENAI_API_KEY,\n",
    "                messages=[\n",
    "                    {\"role\": \"system\", \"content\": \"You are an MCQ evaluation assistant. Always respond with valid JSON in the exact format specified.\"},\n",
    "                    {\"role\": \"user\", \"content\": prompt}\n",
    "                ],\n",
    "                max_tokens=1000\n",
    "            )\n",
    "\n",
    "            eval_data = json.loads(response.choices[0].message.content)\n",
    "            results.append({\n",
    "                'Question': eval_data['question'],\n",
    "                'Relevance Score': eval_data['evaluations']['relevance_score'],\n",
    "                'Relevance Justification': eval_data['evaluations']['relevance_justification'],\n",
    "                'Clarity Score': eval_data['evaluations']['clarity_score'],\n",
    "                'Clarity Justification': eval_data['evaluations']['clarity_justification'],\n",
    "                'Difficulty Score': eval_data['evaluations']['difficulty_score'],\n",
    "                'Difficulty Justification': eval_data['evaluations']['difficulty_justification'],\n",
    "                'Correctness Score': eval_data['evaluations']['correctness_score'],\n",
    "                'Correctness Justification': eval_data['evaluations']['correctness_justification']\n",
    "            })\n",
    "        except json.JSONDecodeError as e:\n",
    "            print(f\"Error parsing JSON for question: {question}\\nError: {str(e)}\")\n",
    "            continue\n",
    "\n",
    "    return pd.DataFrame(results)"
   ]
  },
  {
   "cell_type": "code",
   "execution_count": 30,
   "metadata": {},
   "outputs": [
    {
     "data": {
      "text/html": [
       "<div>\n",
       "<style scoped>\n",
       "    .dataframe tbody tr th:only-of-type {\n",
       "        vertical-align: middle;\n",
       "    }\n",
       "\n",
       "    .dataframe tbody tr th {\n",
       "        vertical-align: top;\n",
       "    }\n",
       "\n",
       "    .dataframe thead th {\n",
       "        text-align: right;\n",
       "    }\n",
       "</style>\n",
       "<table border=\"1\" class=\"dataframe\">\n",
       "  <thead>\n",
       "    <tr style=\"text-align: right;\">\n",
       "      <th></th>\n",
       "      <th>Question</th>\n",
       "      <th>Relevance Score</th>\n",
       "      <th>Relevance Justification</th>\n",
       "      <th>Clarity Score</th>\n",
       "      <th>Clarity Justification</th>\n",
       "      <th>Difficulty Score</th>\n",
       "      <th>Difficulty Justification</th>\n",
       "      <th>Correctness Score</th>\n",
       "      <th>Correctness Justification</th>\n",
       "    </tr>\n",
       "  </thead>\n",
       "  <tbody>\n",
       "    <tr>\n",
       "      <th>0</th>\n",
       "      <td>What is the primary pigment used in photosynth...</td>\n",
       "      <td>1</td>\n",
       "      <td>The question is highly relevant to the context...</td>\n",
       "      <td>1</td>\n",
       "      <td>The question is clear and concise. The meaning...</td>\n",
       "      <td>0.2</td>\n",
       "      <td>The difficulty level of the question is quite ...</td>\n",
       "      <td>1</td>\n",
       "      <td>The correct answer, Chlorophyll, is listed as ...</td>\n",
       "    </tr>\n",
       "    <tr>\n",
       "      <th>1</th>\n",
       "      <td>In which part of the plant cell does photosynt...</td>\n",
       "      <td>1</td>\n",
       "      <td>The question is highly relevant to the provide...</td>\n",
       "      <td>1</td>\n",
       "      <td>The question is clear and straightforward. It ...</td>\n",
       "      <td>0.2</td>\n",
       "      <td>Given the context, the question is not difficu...</td>\n",
       "      <td>1</td>\n",
       "      <td>The answer (Chloroplasts) is correctly identif...</td>\n",
       "    </tr>\n",
       "    <tr>\n",
       "      <th>2</th>\n",
       "      <td>What are the two main raw materials needed for...</td>\n",
       "      <td>1</td>\n",
       "      <td>The question is highly relevant as it directly...</td>\n",
       "      <td>1</td>\n",
       "      <td>The question is clearly stated and specificall...</td>\n",
       "      <td>0.2</td>\n",
       "      <td>The difficulty is relatively low because the c...</td>\n",
       "      <td>1</td>\n",
       "      <td>The correct answer is C) Carbon dioxide and wa...</td>\n",
       "    </tr>\n",
       "    <tr>\n",
       "      <th>3</th>\n",
       "      <td>What is one of the products of photosynthesis?</td>\n",
       "      <td>1</td>\n",
       "      <td>The question is directly related to the contex...</td>\n",
       "      <td>1</td>\n",
       "      <td>The question is very clear and straightforward...</td>\n",
       "      <td>0.2</td>\n",
       "      <td>Given the context, the question is not very di...</td>\n",
       "      <td>1</td>\n",
       "      <td>The correct answer is given as 'C) Glucose' wh...</td>\n",
       "    </tr>\n",
       "    <tr>\n",
       "      <th>4</th>\n",
       "      <td>Why is photosynthesis important for the enviro...</td>\n",
       "      <td>1</td>\n",
       "      <td>The question is highly relevant to the context...</td>\n",
       "      <td>1</td>\n",
       "      <td>The question is clearly worded and straightfor...</td>\n",
       "      <td>0.2</td>\n",
       "      <td>The difficulty of the question is minimal beca...</td>\n",
       "      <td>1</td>\n",
       "      <td>The correct answer, choice B, is accurate acco...</td>\n",
       "    </tr>\n",
       "  </tbody>\n",
       "</table>\n",
       "</div>"
      ],
      "text/plain": [
       "                                            Question  Relevance Score  \\\n",
       "0  What is the primary pigment used in photosynth...                1   \n",
       "1  In which part of the plant cell does photosynt...                1   \n",
       "2  What are the two main raw materials needed for...                1   \n",
       "3     What is one of the products of photosynthesis?                1   \n",
       "4  Why is photosynthesis important for the enviro...                1   \n",
       "\n",
       "                             Relevance Justification  Clarity Score  \\\n",
       "0  The question is highly relevant to the context...              1   \n",
       "1  The question is highly relevant to the provide...              1   \n",
       "2  The question is highly relevant as it directly...              1   \n",
       "3  The question is directly related to the contex...              1   \n",
       "4  The question is highly relevant to the context...              1   \n",
       "\n",
       "                               Clarity Justification  Difficulty Score  \\\n",
       "0  The question is clear and concise. The meaning...               0.2   \n",
       "1  The question is clear and straightforward. It ...               0.2   \n",
       "2  The question is clearly stated and specificall...               0.2   \n",
       "3  The question is very clear and straightforward...               0.2   \n",
       "4  The question is clearly worded and straightfor...               0.2   \n",
       "\n",
       "                            Difficulty Justification  Correctness Score  \\\n",
       "0  The difficulty level of the question is quite ...                  1   \n",
       "1  Given the context, the question is not difficu...                  1   \n",
       "2  The difficulty is relatively low because the c...                  1   \n",
       "3  Given the context, the question is not very di...                  1   \n",
       "4  The difficulty of the question is minimal beca...                  1   \n",
       "\n",
       "                           Correctness Justification  \n",
       "0  The correct answer, Chlorophyll, is listed as ...  \n",
       "1  The answer (Chloroplasts) is correctly identif...  \n",
       "2  The correct answer is C) Carbon dioxide and wa...  \n",
       "3  The correct answer is given as 'C) Glucose' wh...  \n",
       "4  The correct answer, choice B, is accurate acco...  "
      ]
     },
     "execution_count": 30,
     "metadata": {},
     "output_type": "execute_result"
    }
   ],
   "source": [
    "evaluate_mcqs(mcqs, context)"
   ]
  },
  {
   "cell_type": "code",
   "execution_count": null,
   "metadata": {},
   "outputs": [],
   "source": []
  }
 ],
 "metadata": {
  "kernelspec": {
   "display_name": "torch",
   "language": "python",
   "name": "python3"
  },
  "language_info": {
   "codemirror_mode": {
    "name": "ipython",
    "version": 3
   },
   "file_extension": ".py",
   "mimetype": "text/x-python",
   "name": "python",
   "nbconvert_exporter": "python",
   "pygments_lexer": "ipython3",
   "version": "3.11.7"
  }
 },
 "nbformat": 4,
 "nbformat_minor": 2
}
